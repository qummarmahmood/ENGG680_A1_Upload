{
  "nbformat": 4,
  "nbformat_minor": 0,
  "metadata": {
    "colab": {
      "provenance": [],
      "authorship_tag": "ABX9TyPfu8/ZSR5+Hlf8fWe2+Q8d",
      "include_colab_link": true
    },
    "kernelspec": {
      "name": "python3",
      "display_name": "Python 3"
    },
    "language_info": {
      "name": "python"
    }
  },
  "cells": [
    {
      "cell_type": "markdown",
      "metadata": {
        "id": "view-in-github",
        "colab_type": "text"
      },
      "source": [
        "<a href=\"https://colab.research.google.com/github/qummarmahmood/ENGG680_A1_Upload/blob/main/ENGG680_Assignment1_Part4_Qummar.ipynb\" target=\"_parent\"><img src=\"https://colab.research.google.com/assets/colab-badge.svg\" alt=\"Open In Colab\"/></a>"
      ]
    },
    {
      "cell_type": "markdown",
      "metadata": {
        "id": "7zMefl3LSqQs"
      },
      "source": [
        "## Part 4: More Data Analytics using Pandas\n",
        "### (18 marks)"
      ]
    },
    {
      "cell_type": "code",
      "execution_count": null,
      "metadata": {
        "id": "F_W0PBCdSxg9",
        "colab": {
          "base_uri": "https://localhost:8080/"
        },
        "outputId": "875e85a4-d8df-4ea5-983f-ade84e618824"
      },
      "outputs": [
        {
          "output_type": "stream",
          "name": "stdout",
          "text": [
            "0     95\n",
            "1     88\n",
            "2     87\n",
            "3     86\n",
            "4     90\n",
            "5     88\n",
            "6     84\n",
            "7     76\n",
            "8     80\n",
            "9     82\n",
            "10    92\n",
            "11    91\n",
            "12    98\n",
            "13    80\n",
            "Name: grade, dtype: int64\n"
          ]
        }
      ],
      "source": [
        "# Select the column 'grade' from the original English grade dataset and print it\n",
        "print(df_english['grade'])"
      ]
    },
    {
      "cell_type": "code",
      "execution_count": null,
      "metadata": {
        "id": "d_Mo59OuT0IV",
        "colab": {
          "base_uri": "https://localhost:8080/"
        },
        "outputId": "e351b78a-6867-4083-e878-1d05a8ff5004"
      },
      "outputs": [
        {
          "output_type": "stream",
          "name": "stdout",
          "text": [
            "0     92.5\n",
            "1     91.5\n",
            "2     86.0\n",
            "3     86.5\n",
            "4     89.0\n",
            "5     83.5\n",
            "6     82.0\n",
            "7     84.0\n",
            "8     89.0\n",
            "9     90.5\n",
            "10    90.5\n",
            "11    89.0\n",
            "12    92.0\n",
            "13    82.5\n",
            "Name: GPA, dtype: float64\n"
          ]
        }
      ],
      "source": [
        "# Select the column 'GPA' from the df_studentGrades and print it\n",
        "print(df_studentGrades['GPA'])"
      ]
    },
    {
      "cell_type": "code",
      "execution_count": null,
      "metadata": {
        "id": "EdHYR2hYVbef",
        "colab": {
          "base_uri": "https://localhost:8080/"
        },
        "outputId": "4338077b-c77c-4df4-9117-8ba6cbf32416"
      },
      "outputs": [
        {
          "output_type": "stream",
          "name": "stdout",
          "text": [
            "int64\n",
            "float64\n"
          ]
        }
      ],
      "source": [
        "# What is the data type of grade from the English grade dataset?\n",
        "# (0.5 mark)\n",
        "print(df_english['grade'].dtype)\n",
        "\n",
        "# What is the data type of GPA from the merged dataset?\n",
        "# (0.5 mark)\n",
        "print(df_studentGrades['GPA'].dtype)\n",
        "\n",
        "# Is it different? Why?\n",
        "# (1 mark)\n",
        "\n",
        "# Yes, the data types can be different.\n",
        "# The 'grade' column in the English dataset may be stored as an integer (int64),\n",
        "# while the 'GPA' column is a float (float64) because it was calculated\n",
        "# as the mean of English and Math grades, which can produce decimal values."
      ]
    },
    {
      "cell_type": "code",
      "execution_count": null,
      "metadata": {
        "id": "chmwegDeV6Dr"
      },
      "outputs": [],
      "source": [
        "# Load the student homeroom CSV file into a DataFrame using the following variable name\n",
        "# (1 mark)\n",
        "df_homeroom = pd.read_csv(\"studentHomerooms (1).csv\")"
      ]
    },
    {
      "cell_type": "code",
      "execution_count": null,
      "metadata": {
        "id": "Np5oRF-onFKg",
        "colab": {
          "base_uri": "https://localhost:8080/"
        },
        "outputId": "df3a71b4-8cff-4c24-fe47-415a3094f32d"
      },
      "outputs": [
        {
          "output_type": "stream",
          "name": "stdout",
          "text": [
            "  firstName  lastName  studentID  homeRoom\n",
            "0      Emma     Smith      10959       313\n",
            "1    Sophia  Robinson      75175       311\n",
            "2      Emma    Taylor      42257       311\n",
            "3     David  Robinson      55148       313\n",
            "4   Stephen     Curry      30303       313\n"
          ]
        }
      ],
      "source": [
        "# Print first 5 rows of df_homeroom using the .head method\n",
        "print(df_homeroom.head())"
      ]
    },
    {
      "cell_type": "code",
      "execution_count": null,
      "metadata": {
        "id": "SDhu53MZolrZ",
        "colab": {
          "base_uri": "https://localhost:8080/"
        },
        "outputId": "f4db551a-133c-4d12-91b2-6d1bff4d5fb5"
      },
      "outputs": [
        {
          "output_type": "stream",
          "name": "stdout",
          "text": [
            "  firstName  lastName studentID  englishGrade  mathGrade   GPA  homeRoom\n",
            "0      Emma     Smith     10959          95.0       90.0  92.5       313\n",
            "1    Sophia  Robinson     75175          88.0       95.0  91.5       311\n",
            "2      Emma    Taylor     42257          87.0       85.0  86.0       311\n",
            "3     David  Robinson     55148          86.0       87.0  86.5       313\n",
            "4   Stephen     Curry     30303          90.0       88.0  89.0       313\n"
          ]
        }
      ],
      "source": [
        "# Merge the studentHomerooms with the merged dataset & name it df_studentInfo. Make sure that the key you are joining on are the same typecast for both datasets.\n",
        "# Also ensure that there are no redundant columns, and finally display the first few rows.\n",
        "# Hint: try joining on more than one column to avoid having to drop redundant columns, ie. on=['studentID', '<ColumnA>', '<ColumnB>'] ...\n",
        "# (5 marks)\n",
        "# Make sure studentID has the same type in both DataFrames\n",
        "df_homeroom['studentID'] = df_homeroom['studentID'].astype(str)\n",
        "df_studentGrades['studentID'] = df_studentGrades['studentID'].astype(str)\n",
        "\n",
        "# Merge on studentID, firstName, and lastName to avoid duplicates\n",
        "df_studentInfo = pd.merge(\n",
        "    df_studentGrades,\n",
        "    df_homeroom,\n",
        "    on=['studentID', 'firstName', 'lastName'],\n",
        "    how='inner'\n",
        ")\n",
        "\n",
        "# Display the first few rows\n",
        "print(df_studentInfo.head())"
      ]
    },
    {
      "cell_type": "code",
      "execution_count": null,
      "metadata": {
        "id": "T-o1caIYswWg",
        "colab": {
          "base_uri": "https://localhost:8080/"
        },
        "outputId": "e23a03eb-a5f0-41bb-e7ac-70012cc7810b"
      },
      "outputs": [
        {
          "output_type": "stream",
          "name": "stdout",
          "text": [
            "homeRoom\n",
            "311    88.785714\n",
            "313    86.714286\n",
            "Name: GPA, dtype: float64\n",
            "The homeroom with the higher average GPA is 311.\n"
          ]
        }
      ],
      "source": [
        "# The code below calculates the mean of each homeroom class.\n",
        "df_grouped = df_studentInfo.groupby('homeRoom')['GPA'].mean()\n",
        "\n",
        "# Which homeroom has a higher GPA?\n",
        "# (1 mark)\n",
        "\n",
        "# Display the mean GPA for each homeroom\n",
        "print(df_grouped)\n",
        "\n",
        "# Determine which homeroom has the higher GPA\n",
        "higher_homeRoom = df_grouped.idxmax()\n",
        "print(f\"The homeroom with the higher average GPA is {higher_homeRoom}.\")"
      ]
    },
    {
      "cell_type": "code",
      "execution_count": null,
      "metadata": {
        "id": "I1EtLRpVkCJt",
        "colab": {
          "base_uri": "https://localhost:8080/"
        },
        "outputId": "e211557f-7a5b-453e-eeec-37322f43afe1"
      },
      "outputs": [
        {
          "output_type": "stream",
          "name": "stdout",
          "text": [
            "   firstName  lastName studentID  englishGrade  mathGrade   GPA  homeRoom\n",
            "0       Emma     Smith     10959          95.0       90.0  92.5       313\n",
            "10      Ryan    Thomas     62137          92.0       89.0  90.5       313\n",
            "4    Stephen     Curry     30303          90.0       88.0  89.0       313\n",
            "3      David  Robinson     55148          86.0       87.0  86.5       313\n",
            "7      James     Jones     87707          76.0       92.0  84.0       313\n"
          ]
        }
      ],
      "source": [
        "# Now let's work with multiple sorts. The .sort_values() method can sort by multiple columns, meaning you can specify a primary column and a secondary column for sorting.\n",
        "# For example, by=['ColumnA', 'ColumnB'] will first sort by ColumnA and then by ColumnB.\n",
        "# Create and print a DataFrame, df_studentsGPASorted_homeroom, which is sorted by homeRoom and then by GPA, both in descending order.\n",
        "# (3 mark)\n",
        "\n",
        "# Sort by homeRoom (descending) and then by GPA (descending)\n",
        "df_studentsGPASorted_homeroom = df_studentInfo.sort_values(\n",
        "    by=['homeRoom', 'GPA'],\n",
        "    ascending=[False, False]\n",
        ")\n",
        "\n",
        "# Display the first few rows\n",
        "print(df_studentsGPASorted_homeroom.head())"
      ]
    },
    {
      "cell_type": "code",
      "execution_count": null,
      "metadata": {
        "id": "7XWCjnSCox1a",
        "colab": {
          "base_uri": "https://localhost:8080/"
        },
        "outputId": "0c6c6823-a883-40bf-a976-13d678d725b8"
      },
      "outputs": [
        {
          "output_type": "stream",
          "name": "stdout",
          "text": [
            "         firstName  lastName studentID  englishGrade  mathGrade   GPA  \\\n",
            "newIndex                                                                \n",
            "313-1         Emma     Smith     10959          95.0       90.0  92.5   \n",
            "313-2         Ryan    Thomas     62137          92.0       89.0  90.5   \n",
            "313-3      Stephen     Curry     30303          90.0       88.0  89.0   \n",
            "313-4        David  Robinson     55148          86.0       87.0  86.5   \n",
            "313-5        James     Jones     87707          76.0       92.0  84.0   \n",
            "313-6      Matthew     White     25376          80.0       85.0  82.5   \n",
            "313-7      Jasmine     Smith     70385          84.0       80.0  82.0   \n",
            "311-1         Sara       Doe     47991          98.0       86.0  92.0   \n",
            "311-2       Sophia  Robinson     75175          88.0       95.0  91.5   \n",
            "311-3         Anne     Clark     90449          82.0       99.0  90.5   \n",
            "311-4        Sarah     Swift     61026          80.0       98.0  89.0   \n",
            "311-5       Daniel     White     25477          91.0       87.0  89.0   \n",
            "311-6         Emma    Taylor     42257          87.0       85.0  86.0   \n",
            "311-7     Isabella  Thompson     72824          88.0       79.0  83.5   \n",
            "\n",
            "          homeRoom  \n",
            "newIndex            \n",
            "313-1          313  \n",
            "313-2          313  \n",
            "313-3          313  \n",
            "313-4          313  \n",
            "313-5          313  \n",
            "313-6          313  \n",
            "313-7          313  \n",
            "311-1          311  \n",
            "311-2          311  \n",
            "311-3          311  \n",
            "311-4          311  \n",
            "311-5          311  \n",
            "311-6          311  \n",
            "311-7          311  \n"
          ]
        }
      ],
      "source": [
        "# Do you notice a problem with the indices? They are basically meaningless now that we have sorted by homeroom and GPA.\n",
        "\n",
        "# The code below changes the index of the dataframe so that it is more intuitive.\n",
        "df_studentsGPASorted_homeroom['studentRank'] = df_studentsGPASorted_homeroom.groupby('homeRoom').cumcount() + 1\n",
        "df_studentsGPASorted_homeroom['newIndex'] = df_studentsGPASorted_homeroom['homeRoom'].astype(str) + '-' + df_studentsGPASorted_homeroom['studentRank'].astype(str)\n",
        "df_studentsGPASorted_homeroom = df_studentsGPASorted_homeroom.set_index('newIndex')\n",
        "df_studentsGPASorted_homeroom = df_studentsGPASorted_homeroom.drop(columns=['studentRank'])\n",
        "\n",
        "print(df_studentsGPASorted_homeroom)"
      ]
    },
    {
      "cell_type": "code",
      "execution_count": null,
      "metadata": {
        "id": "CUwJVCXfpsdJ"
      },
      "outputs": [],
      "source": [
        "# Describe what each coding line in the cell above is doing\n",
        "# (4 marks)\n",
        "#\n",
        "# Line 1 creates a new column called 'studentRank' that assigns a ranking to each student within their homeroom group.\n",
        "# It uses groupby('homeRoom') to group students and .cumcount() + 1 to number them starting from 1.\n",
        "\n",
        "# Line 2 creates a new column called 'newIndex' by combining the homeroom number and the student's rank into one string (e.g., \"311-1\").\n",
        "# The .astype(str) method converts the numeric columns to strings before joining them with a dash ('-').\n",
        "\n",
        "# Line 3 sets 'newIndex' as the new index for the DataFrame, replacing the default numeric index with a more meaningful one.\n",
        "\n",
        "# Line 4 removes the temporary 'studentRank' column since its information is now part of the index, keeping the DataFrame clean."
      ]
    },
    {
      "cell_type": "code",
      "execution_count": null,
      "metadata": {
        "id": "t1iojeTVqLWW",
        "colab": {
          "base_uri": "https://localhost:8080/"
        },
        "outputId": "c44360f2-fdc0-4fea-894a-4911adb4c7f9"
      },
      "outputs": [
        {
          "output_type": "stream",
          "name": "stdout",
          "text": [
            "         firstName lastName studentID  englishGrade  mathGrade   GPA  homeRoom\n",
            "newIndex                                                                      \n",
            "313-1         Emma    Smith     10959          95.0       90.0  92.5       313\n",
            "311-1         Sara      Doe     47991          98.0       86.0  92.0       311\n"
          ]
        }
      ],
      "source": [
        "# Given df_studentsGPASorted_homeroom, please find and print the students with the highest GPA in each homeroom using the .loc method.\n",
        "# (2 marks)\n",
        "#\n",
        "# Since the dataframe is already sorted by GPA (descending) within each homeroom,\n",
        "# the top student in each homeroom will have the index ending with '-1'.\n",
        "top_students = df_studentsGPASorted_homeroom.loc[df_studentsGPASorted_homeroom.index.str.endswith('-1')]\n",
        "\n",
        "print(top_students)"
      ]
    }
  ]
}